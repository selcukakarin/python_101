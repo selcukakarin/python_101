{
 "cells": [
  {
   "cell_type": "markdown",
   "metadata": {},
   "source": [
    "# Hakkımızda Sayfası Oluşturma\n",
    "\n",
    "/hakkimizda dediğimiz zaman burda herhangi bir url tanımlamadığımız için biz hata veriyor.\n",
    "\n",
    "önce about.html sayfasını oluşturuyoruz.\n",
    "sonra about.html sayfası içerisinde yine layout.html'i extends ediyoruz.\n",
    "\n",
    "```Python\n",
    "{% extends \"layout.html\" %}\n",
    "{% block body %}\n",
    "<h3>Hakkımızda</h3>\n",
    "<hr>\n",
    "<p>Selamlar</p>\n",
    "{% endblock body %}\n",
    "```\n",
    "\n",
    "Şimdi de bir url tanımı yapmamız gerekiyor.\n",
    "\n",
    "```Python\n",
    "path('about/', views.about,name=\"about\"),\n",
    "```\n",
    "\n",
    "Şimdi de view'ımızı oluşturuyor\n",
    "\n",
    "```Python\n",
    "def about(request):\n",
    "    return render(request,\"about.html\")\n",
    "```\n"
   ]
  }
 ],
 "metadata": {
  "kernelspec": {
   "display_name": "Python 3",
   "language": "python",
   "name": "python3"
  },
  "language_info": {
   "codemirror_mode": {
    "name": "ipython",
    "version": 3
   },
   "file_extension": ".py",
   "mimetype": "text/x-python",
   "name": "python",
   "nbconvert_exporter": "python",
   "pygments_lexer": "ipython3",
   "version": "3.12.2"
  }
 },
 "nbformat": 4,
 "nbformat_minor": 2
}
