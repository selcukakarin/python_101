{
 "cells": [
  {
   "cell_type": "markdown",
   "metadata": {},
   "source": [
    "# Django url yapısı\n",
    "\n",
    "Biz belli bir url'e karşılık gelen bellir bir python fonksiyonu çalıştırmak istiyoruz. Bunun için öncelikle url tanımlamamızı yapacağız.\n",
    "\n",
    "Url tanımlamamızı yapmadan önce ise settings dosyamıza geliş aşağıdaki ayarı yapmamız gerek.\n",
    "\n",
    "TEMPLATES değişkenimiz içindeki\n",
    "'DIRS': [\"templates\"],\n",
    "kısmını düzeltiyoruz.\n",
    "\n",
    "ve daha sonra anadizinde templates isminde bir klasör oluşturuyoruz ve artık django bir template araken bizin ana dizinde oluşturduğumuz templates klasörüne bakmak zorunda olacak.\n",
    "\n",
    "daha sonra bu klasörün içerisine index.html diye bir template oluşturuyoruz. daha sonra index.html'in yapısını aşağıdaki gibi oluşturuyoruz.\n",
    "```Python\n",
    "<!DOCTYPE html>\n",
    "<html lang=\"en\">\n",
    "<head>\n",
    "    <meta charset=\"UTF-8\">\n",
    "    <meta name=\"viewport\" content=\"width=device-width, initial-scale=1.0\">\n",
    "    <title>PythonBlog</title>\n",
    "</head>\n",
    "<body>\n",
    "    <h3>Anasayfa</h3>\n",
    "</body>\n",
    "</html>\n",
    "```\n",
    "daha sonra biraz urls.py dosyamızı inceliyoruz. Burada admin url'sinin burada tanımlı oldğunu görüyoruz. Admin url'si bizim admin panele ulaşıp işlemler yaptırmamızı sağlıyordu. Burdaki tanımlamaya dikkat ederseniz bu url'in admin.site.urls diye bir fonksiyonu çalıştırdığını görebilirsiniz. \n",
    "\n",
    "Biz de tıpkı buradaki tanım gibi kendi url tanımlarımızı yapacağız. Bunun için aşağıdaki gibi bir tanımlama yapabiliriz.\n",
    "```Python\n",
    "from article.views import index\n",
    "path('', index, name=\"index\"),\n",
    "```\n",
    "tanımlamamızı yaptıktan sonra python'ın bize hata verdiğini görebiliyoruz. Bizin henüz index diye bir fonksiyonumuz olmadığı için bu hata almaktayız. Bu hatayı çözebilmek için biz views.py dosyamıza aşağıdaki fonksiyon tanımlamasını yapmalıyız. doğru url geldiği zaman burdaki fonksiyon çalıştırılacaktır.\n",
    "\n",
    "```Python\n",
    "from django.shortcuts import render, HttpResponse\n",
    "def index(request):\n",
    "    return HttpResponse(\"<h3>Anasayfa</h3>\")\n",
    "```\n",
    "biz burda bir httpResponse yerine bir html template'i de dönebiliriz.\n",
    "```Python\n",
    "def index(request):\n",
    "    return render(request, \"index.html\")\n",
    "```\n",
    "eğer index.html'i templates klasörü içindeki article klasörüne atmak istersen, bu işlemi yaptıktan sonra tanımlamamızı aşağıdaki gibi değiştirebiliriz.\n",
    "```Python\n",
    "def index(request):\n",
    "    return render(request, \"article/index.html\")\n",
    "```\n"
   ]
  }
 ],
 "metadata": {
  "kernelspec": {
   "display_name": "Python 3",
   "language": "python",
   "name": "python3"
  },
  "language_info": {
   "codemirror_mode": {
    "name": "ipython",
    "version": 3
   },
   "file_extension": ".py",
   "mimetype": "text/x-python",
   "name": "python",
   "nbconvert_exporter": "python",
   "pygments_lexer": "ipython3",
   "version": "3.12.1"
  }
 },
 "nbformat": 4,
 "nbformat_minor": 2
}
