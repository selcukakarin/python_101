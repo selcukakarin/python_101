{
 "cells": [
  {
   "cell_type": "markdown",
   "metadata": {},
   "source": [
    "# Navbar ekleme\n",
    "\n",
    "navbar.html'i oluşturuyoruz.\n",
    "\n",
    "bootstrap navbar yazarak burdaki navbarı alıp düzenleyebiliriz.\n",
    "\n",
    "```Python\n",
    "<nav class=\"navbar navbar-expand-lg navbar-dark bg-dark\">\n",
    "  <button class=\"navbar-toggler\" type=\"button\" data-toggle=\"collapse\" data-target=\"#navbarSupportedContent\" aria-controls=\"navbarSupportedContent\" aria-expanded=\"false\" aria-label=\"Toggle navigation\">\n",
    "    <span class=\"navbar-toggler-icon\"></span>\n",
    "  </button>\n",
    "\n",
    "  <div class=\"collapse navbar-collapse\" id=\"navbarSupportedContent\">\n",
    "    <a class=\"navbar-brand\" href=\"\">Selçuk Blog</a>  \n",
    "        \n",
    "        <div class=\"collapse navbar-collapse\" id=\"navbarCollapse\">\n",
    "          <ul class=\"navbar-nav mr-auto\">\n",
    "            <li class=\"nav-item active\">\n",
    "              <a class=\"nav-link\" href=\"\">Makaleler</a>\n",
    "            </li>\n",
    "            <li class=\"nav-item active\">\n",
    "                <a class=\"nav-link\" href=\"/about\">Hakkımızda</a>\n",
    "            </li>            \n",
    "          </ul>\n",
    "\n",
    "          <ul class=\"navbar-nav ml-auto\">\n",
    "            <li class=\"nav-item active\">\n",
    "              <a class=\"nav-link\" href=\"\">Kontrol Paneli</a>\n",
    "            </li>\n",
    "            <li class=\"nav-item active\">\n",
    "              <a class=\"nav-link\" href=\"\">Kayıt Ol</a>\n",
    "            </li>\n",
    "            <li class=\"nav-item active\">\n",
    "                <a class=\"nav-link\" href=\"\">Çıkış Yap</a>\n",
    "            </li>\n",
    "            <li class=\"nav-item active\">\n",
    "                <a class=\"nav-link\" href=\"\">Giriş Yap</a>\n",
    "            </li>\n",
    "          </ul>\n",
    "\n",
    "        </div>\n",
    "  </div>\n",
    "</nav>\n",
    "```\n",
    "layout html'de {% include \"includes/navbar.html\" %} gibi bir tanımlama yapmalıyız.\n",
    "\n"
   ]
  }
 ],
 "metadata": {
  "kernelspec": {
   "display_name": "Python 3",
   "language": "python",
   "name": "python3"
  },
  "language_info": {
   "codemirror_mode": {
    "name": "ipython",
    "version": 3
   },
   "file_extension": ".py",
   "mimetype": "text/x-python",
   "name": "python",
   "nbconvert_exporter": "python",
   "pygments_lexer": "ipython3",
   "version": "3.12.2"
  }
 },
 "nbformat": 4,
 "nbformat_minor": 2
}
