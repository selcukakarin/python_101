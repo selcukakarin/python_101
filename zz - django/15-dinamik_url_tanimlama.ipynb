{
 "cells": [
  {
   "cell_type": "markdown",
   "metadata": {},
   "source": [
    "# Dinamik url tanımlama\n",
    "\n",
    "biz sayı kısmı dinamik değişen detail/1 gibi bir url tanımlamak istediğimizi varsayalım.\n",
    "Bunun için aşağıdaki gibi bir tanımlama yapalım. Burada id değerimizin bir tamsayı değer yanı integer değer olduğunu belirtiyoruz.\n",
    "\n",
    "```Python\n",
    "path('article/<int:id>',views.detail,name=\"detail\"),\n",
    "```\n",
    "```Python\n",
    "def detail(request,id):\n",
    "   return HttpResponse(\"Detail\"+str(id))\n",
    "```\n",
    "\n"
   ]
  }
 ],
 "metadata": {
  "kernelspec": {
   "display_name": "Python 3",
   "language": "python",
   "name": "python3"
  },
  "language_info": {
   "codemirror_mode": {
    "name": "ipython",
    "version": 3
   },
   "file_extension": ".py",
   "mimetype": "text/x-python",
   "name": "python",
   "nbconvert_exporter": "python",
   "pygments_lexer": "ipython3",
   "version": "3.12.2"
  }
 },
 "nbformat": 4,
 "nbformat_minor": 2
}
