{
 "cells": [
  {
   "cell_type": "markdown",
   "metadata": {},
   "source": [
    "# Template inheritance ve anasayfanın oluşturulması\n",
    "\n",
    "templates'imizdeki article klasörünü silebiliriz. Ve aşağıdaki iki dosyayı oluşturabiliriz.\n",
    "\n",
    "layout.html\n",
    "\n",
    "index.html\n",
    "\n",
    "#### bootstrap 4 cdn 'ini layout.html'e dahil ediyoruz\n",
    "```Python\n",
    "<!DOCTYPE html>\n",
    "{%load static %}\n",
    "<html lang=\"en\">\n",
    "<head>\n",
    "    <meta charset=\"UTF-8\">\n",
    "    <meta name=\"viewport\" content=\"width=device-width, initial-scale=1.0\">\n",
    "    <meta http-equiv=\"X-UA-Compatible\" content=\"ie=edge\">\n",
    "\n",
    "<link rel=\"stylesheet\" href=\"https://cdn.jsdelivr.net/npm/bootstrap@4.0.0/dist/css/bootstrap.min.css\" integrity=\"sha384-Gn5384xqQ1aoWXA+058RXPxPg6fy4IWvTNh0E263XmFcJlSAwiGgFAW/dAiS6JXm\" crossorigin=\"anonymous\">\n",
    "    \n",
    "    <title>Selçuk Blog</title>\n",
    "</head>\n",
    "<body>\n",
    "    \n",
    "    <div class=\"container\" >\n",
    "        {% block body %}\n",
    "        \n",
    "        {% endblock body %}\n",
    "    </div>\n",
    "\n",
    "\n",
    "<script src=\"https://code.jquery.com/jquery-3.2.1.slim.min.js\" integrity=\"sha384-KJ3o2DKtIkvYIK3UENzmM7KCkRr/rE9/Qpg6aAZGJwFDMVNA/GpGFF93hXpG5KkN\" crossorigin=\"anonymous\"></script>\n",
    "<script src=\"https://cdn.jsdelivr.net/npm/popper.js@1.12.9/dist/umd/popper.min.js\" integrity=\"sha384-ApNbgh9B+Y1QKtv3Rn7W3mgPxhU9K/ScQsAP7hUibX39j7fakFPskvXusvfa0b4Q\" crossorigin=\"anonymous\"></script>\n",
    "<script src=\"https://cdn.jsdelivr.net/npm/bootstrap@4.0.0/dist/js/bootstrap.min.js\" integrity=\"sha384-JZR6Spejh4U02d8jOt6vLEHfe/JQGiRRSQQxSfFWpi1MquVdAyjUar5+76PVCmYl\" crossorigin=\"anonymous\"></script>\n",
    "</body>\n",
    "</html>\n",
    "```"
   ]
  },
  {
   "cell_type": "markdown",
   "metadata": {},
   "source": [
    "index.html\n",
    "\n",
    "```Python\n",
    "{% extends \"layout.html\" %}\n",
    "{% block body %}\n",
    "\n",
    "    <h3>Anasayfa</h3>\n",
    "\n",
    "{% endblock body %}\n",
    "```"
   ]
  },
  {
   "cell_type": "markdown",
   "metadata": {},
   "source": [
    "index.html -v2\n",
    "\n",
    "```Python\n",
    "{% extends \"layout.html\" %}\n",
    "{% block body %}\n",
    "\n",
    "    <div class=\"jumbotron text-center\">\n",
    "        <h3>Selçuk Akarının bloğuna hoşgeldin</h3>\n",
    "        <p>Bu blog django içindir</p>\n",
    "    </div>\n",
    "    <p>\n",
    "        {% if request.user.is_authenticated %}      <!-- request.user sisteme giriş yapmış user'a erişir -->\n",
    "            giriş yapılmış, {{request.user.username}}\n",
    "        {% else %}\n",
    "            giriş yapılmamış\n",
    "        {% endif %}\n",
    "    </p>\n",
    "\n",
    "{% endblock body %}\n",
    "```"
   ]
  }
 ],
 "metadata": {
  "kernelspec": {
   "display_name": "Python 3",
   "language": "python",
   "name": "python3"
  },
  "language_info": {
   "codemirror_mode": {
    "name": "ipython",
    "version": 3
   },
   "file_extension": ".py",
   "mimetype": "text/x-python",
   "name": "python",
   "nbconvert_exporter": "python",
   "pygments_lexer": "ipython3",
   "version": "3.12.2"
  }
 },
 "nbformat": 4,
 "nbformat_minor": 2
}
