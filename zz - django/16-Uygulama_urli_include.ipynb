{
 "cells": [
  {
   "cell_type": "markdown",
   "metadata": {},
   "source": [
    "# Uygulama url'i ve include\n",
    "\n",
    "Derslerimizin bu noktasına kadar geldik ve biz aslında djangonun genel yapısını görmüş olduk fakat biz buraya kadar geldik ve kafamda henüz yapılar oluşmadı diye düşünebilirsiniz veya çok fazla kod yazmadık diye düşünebilirsiniz. Bu çok normal, bu tarz eğitimlerde öncelikle django gibi web framework'lerinin yapısı anlatılır. Ama insanlar hemen bu framework'e alışamayabiliyorlar, bazen bu framework'ün yapısı karışık geliyor bu gayet normal bi durum. Ben de herkes gibi django framework'üne alışabilmek için oldukça fazla zaman harcamıştım. Hatta ilk başlarda biraz umutsuzluğa kapıldığım zamanlar da olmuştu ama bu tarz framework'lere alışmak tamamen zamanla olan birşey. Bu yollardan herkes geçiyor ve ben çalışma azminizi kaybetmemenizi tavsiye ederim arkadaşlar.\n",
    "\n",
    "Sizler video derslermize bakmadan buradaki yapıları henüz kuramıyor olabilirsiniz. Bunlar dediğim gibi çok normal ama sizler bu yapıları daha iyi öğrenebilmek için her dersimizden sonra oluşturduğumuz yapıları bir de kendiniz kurmaya çalışabilirsiniz. Takıldığınız yerde django dökümantasyonuna bakmaya çalışın. Biraz djangoyu kurcalamaya çalışın. Kırılcak ya da bozulcak çok bir şey yok ortada, bozulunca tamir etmeyi de öğrenmemiz gerek. Bu sayede daha iyi bir şekilde öğrenebileceğinizi düşünüyorum. Bozarsanız tekrardan ders videolarımızdaki yolu izleyerek uygulayabilirsiniz.\n",
    "Eskiden büyüklerimiz eve yeni birşey alındığı zaman çok fazla kurcalamamızı istemezedi ama biz djangoyu kurcalayacağız. Acaba burda şu şekilde birşey yapsak çalışır mı diyerek ve chatgpt gibi araçlardan yardım alarak denemelerimizi yapacağız. Bir web framework'ü de ancak bu şekilde anlaşılabilir.\n",
    "\n",
    "Biz django projelerimizi geliştirirken birçok klasör ve dosya oluşturuyoruz. Burada django bizleri neden bu kadar sınırlandırıyor gibi düşünebilirsiniz. Aslında framework'lerin mantığı insanları sınırlandırmak değil, framework'lerin mantığı insanların projeleri daha modüler bir şekilde geliştirmesine katkı sağlamaktır. Şu anda biz django web frameworküne alışmadığımız için yapısı biraz karışık geliyor olabilir. Veya neden bu dosyalara ihtiyacımız var biz bunları tek dosyada da yapabiliriz diye düşünüyor olabilirsiniz ama biz djangoya alıştıkça buradaki yapının bizim işlerimizi ne kadar kolaylaştırdığını göreceksiniz.\n",
    "\n",
    "Burda uyguladığımız yapı projeyi daha modüler yapmak için kullandığımız şeylerdir ve projemiz büyüdükçe projemizi daha karaklı bir şekilde yönetebilmemizi sağlayan şeylerdir. bunlar zorunlu değildir ama buradaki yapılara bağlı kalırsak django geliştiricileri projeyi çok daha modüler bir şekilde geliştirebilirsiniz diyor. \n",
    "\n",
    "Biz şimdi url include işlemlerinin nasıl yapıldığını göreceğiz.\n",
    "\n",
    "şimdi bizim aşağıdaki gibi bir yapıya ihtiyacımız olduğunu düşünelim.\n",
    "\n",
    "```Python\n",
    "path('article/deneme1',views.detail,name=\"detail\"),\n",
    "path('article/deneme2',views.detail,name=\"detail\"),\n",
    "path('article/deneme3',views.detail,name=\"detail\"),\n",
    "```\n",
    "buradaki url'lerdeki article/ kalıbının her url için aynı olduğunu görebiliyoruz. Ben burada aslında article/ kalıbına gelen her url için başka bir urls.py dosyasındaki url'lerin çalışmasını sağlayabilirim. \n",
    "\n",
    "article app'inin içinde urls.py dosyası oluşturuyoruz. Buradaki app_name ileride uygulamalarımızı redirect yaptığımız zaman önemli olacak.\n",
    "\n",
    "urls.py\n",
    "```Python\n",
    "from django.contrib import admin\n",
    "from django.urls import path\n",
    "from . import views\n",
    "\n",
    "app_name=\"article\"\n",
    "\n",
    "urlpatterns = [\n",
    "    path('create/',views.index,name=\"index\"),\n",
    "]\n",
    "```\n",
    "bu dosyayı oluşturduktan sonra ana url dosyama aşağıdaki gibi bir tanımlama yapmam gerek\n",
    "```Python\n",
    "from django.urls import path, include\n",
    "path('articles/', include(\"article.urls\")),\n",
    "```\n",
    "\n",
    "\n"
   ]
  }
 ],
 "metadata": {
  "kernelspec": {
   "display_name": "Python 3",
   "language": "python",
   "name": "python3"
  },
  "language_info": {
   "codemirror_mode": {
    "name": "ipython",
    "version": 3
   },
   "file_extension": ".py",
   "mimetype": "text/x-python",
   "name": "python",
   "nbconvert_exporter": "python",
   "pygments_lexer": "ipython3",
   "version": "3.12.2"
  }
 },
 "nbformat": 4,
 "nbformat_minor": 2
}
